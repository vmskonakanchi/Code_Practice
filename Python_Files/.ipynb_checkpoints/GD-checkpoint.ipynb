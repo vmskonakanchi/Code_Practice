{
 "cells": [
  {
   "cell_type": "code",
   "execution_count": 1,
   "id": "d5aae374",
   "metadata": {},
   "outputs": [],
   "source": [
    "import numpy as np\n",
    "import matplotlib.pyplot as plt"
   ]
  },
  {
   "cell_type": "code",
   "execution_count": 2,
   "id": "5c680864",
   "metadata": {},
   "outputs": [],
   "source": [
    "x_1 = np.linspace(start = -4, stop = 3, num = 300)"
   ]
  },
  {
   "cell_type": "code",
   "execution_count": 3,
   "id": "55129eb2",
   "metadata": {},
   "outputs": [],
   "source": [
    "def f(x):\n",
    "    return x**2 + x + 1\n",
    "\n",
    "def df(x):\n",
    "    \n",
    "    return 2*x + 1\n"
   ]
  },
  {
   "cell_type": "code",
   "execution_count": 13,
   "id": "ee7451d6",
   "metadata": {},
   "outputs": [],
   "source": [
    "def gradient_descent(derivative_func, initial_guess, multiplier, max_iter):\n",
    "    \n",
    "    \n",
    "    new_x = initial_guess\n",
    "    \n",
    "    x_list = [new_x]\n",
    "    \n",
    "    slope_list = [derivative_func(new_x)]\n",
    "    \n",
    "    for i in range(max_iter):\n",
    "        \n",
    "        \n",
    "        previous_x = new_x\n",
    "        \n",
    "        gradient = derivative_func(previous_x)\n",
    "        \n",
    "        new_x = previous_x - multiplier * gradient\n",
    "        \n",
    "        x_list.append(new_x)\n",
    "        \n",
    "        slope_list.append(derivative_func(new_x))\n",
    "        \n",
    "    return new_x\n",
    "\n",
    "\n",
    "\n",
    "def showplot():\n",
    "    plt.figure(figsize=(10))"
   ]
  },
  {
   "cell_type": "code",
   "execution_count": 14,
   "id": "fd5222cf",
   "metadata": {},
   "outputs": [
    {
     "data": {
      "text/plain": [
       "-0.4999500463307553"
      ]
     },
     "execution_count": 14,
     "metadata": {},
     "output_type": "execute_result"
    }
   ],
   "source": [
    "gradient_descent(derivative_func=df,initial_guess=3,multiplier=0.1, max_iter=50 )"
   ]
  },
  {
   "cell_type": "code",
   "execution_count": null,
   "id": "41ab0d49",
   "metadata": {},
   "outputs": [],
   "source": []
  }
 ],
 "metadata": {
  "kernelspec": {
   "display_name": "Python 3 (ipykernel)",
   "language": "python",
   "name": "python3"
  },
  "language_info": {
   "codemirror_mode": {
    "name": "ipython",
    "version": 3
   },
   "file_extension": ".py",
   "mimetype": "text/x-python",
   "name": "python",
   "nbconvert_exporter": "python",
   "pygments_lexer": "ipython3",
   "version": "3.9.7"
  }
 },
 "nbformat": 4,
 "nbformat_minor": 5
}
